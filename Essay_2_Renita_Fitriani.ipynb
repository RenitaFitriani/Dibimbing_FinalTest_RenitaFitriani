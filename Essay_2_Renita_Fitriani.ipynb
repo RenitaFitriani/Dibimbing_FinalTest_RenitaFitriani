{
  "nbformat": 4,
  "nbformat_minor": 0,
  "metadata": {
    "colab": {
      "provenance": []
    },
    "kernelspec": {
      "name": "python3",
      "display_name": "Python 3"
    },
    "language_info": {
      "name": "python"
    }
  },
  "cells": [
    {
      "cell_type": "code",
      "execution_count": null,
      "metadata": {
        "id": "rU9TJZ2oXDUE"
      },
      "outputs": [],
      "source": []
    },
    {
      "cell_type": "markdown",
      "source": [
        "1. 1. Please create dimension tables dim_user , dim_post , and dim_date to store\n",
        "normalized data from the raw tables\n"
      ],
      "metadata": {
        "id": "1B4EowVGXGIQ"
      }
    },
    {
      "cell_type": "code",
      "source": [
        "-- Create dimension table dim_user\n",
        "CREATE TABLE dim_user (\n",
        "    user_id SERIAL PRIMARY KEY,\n",
        "    user_name VARCHAR(100),\n",
        "    country VARCHAR(50)\n",
        ");\n",
        "\n",
        "-- Create dimension table dim_post\n",
        "CREATE TABLE dim_post (\n",
        "    post_id SERIAL PRIMARY KEY,\n",
        "    post_text VARCHAR(500),\n",
        "    post_date DATE,\n",
        "    user_id INT REFERENCES dim_user(user_id)\n",
        ");\n",
        "\n",
        "-- Create dimension table dim_date\n",
        "CREATE TABLE dim_date (\n",
        "    date_id SERIAL PRIMARY KEY,\n",
        "    calendar_date DATE,\n",
        "    day_of_week INT,\n",
        "    month INT,\n",
        "    year INT\n",
        ");\n"
      ],
      "metadata": {
        "id": "PcMyC9YdXMoZ"
      },
      "execution_count": null,
      "outputs": []
    },
    {
      "cell_type": "markdown",
      "source": [
        "2. Populate the dimension tables by inserting data from the related raw tables\n"
      ],
      "metadata": {
        "id": "XMHoffOKXUlx"
      }
    },
    {
      "cell_type": "code",
      "source": [
        "-- Populate dim_user from raw_users\n",
        "INSERT INTO dim_user (user_name, country)\n",
        "SELECT DISTINCT user_name, country FROM raw_users;\n",
        "\n",
        "-- Populate dim_post from raw_posts\n",
        "INSERT INTO dim_post (post_text, post_date, user_id)\n",
        "SELECT DISTINCT post_text, post_date, user_id FROM raw_posts;\n",
        "\n",
        "-- Populate dim_date from raw_posts\n",
        "INSERT INTO dim_date (calendar_date, day_of_week, month, year)\n",
        "SELECT DISTINCT post_date, EXTRACT(DOW FROM post_date), EXTRACT(MONTH FROM post_date), EXTRACT(YEAR FROM post_date) FROM raw_posts;\n"
      ],
      "metadata": {
        "id": "rYqwGky2XYST"
      },
      "execution_count": null,
      "outputs": []
    },
    {
      "cell_type": "markdown",
      "source": [
        "3. Create a fact table called fact_post_performance to store metrics like post views and\n",
        "likes over time"
      ],
      "metadata": {
        "id": "rDqMWDeFXbjt"
      }
    },
    {
      "cell_type": "code",
      "source": [
        "-- Create fact table fact_post_performance\n",
        "CREATE TABLE fact_post_performance (\n",
        "    fact_id SERIAL PRIMARY KEY,\n",
        "    post_id INT REFERENCES dim_post(post_id),\n",
        "    date_id INT REFERENCES dim_date(date_id),\n",
        "    views INT,\n",
        "    likes INT\n",
        ");\n"
      ],
      "metadata": {
        "id": "JyCMNo0DXgLe"
      },
      "execution_count": null,
      "outputs": []
    },
    {
      "cell_type": "markdown",
      "source": [
        "4. Populate the fact table by joining and aggregating data from the raw tables"
      ],
      "metadata": {
        "id": "x8PkXAtnXipu"
      }
    },
    {
      "cell_type": "code",
      "source": [
        "-- Populate fact_post_performance from raw_likes\n",
        "INSERT INTO fact_post_performance (post_id, date_id, likes)\n",
        "SELECT post_id, d.date_id, COUNT(*) AS likes\n",
        "FROM raw_likes l\n",
        "JOIN dim_post p ON l.post_id = p.post_id\n",
        "JOIN dim_date d ON l.like_date = d.calendar_date\n",
        "GROUP BY post_id, d.date_id;\n",
        "\n",
        "-- Update views in fact_post_performance\n",
        "UPDATE fact_post_performance\n",
        "SET views = 1; -- Assuming each like counts as a view, adjust accordingly\n"
      ],
      "metadata": {
        "id": "TC65z15AXlpq"
      },
      "execution_count": null,
      "outputs": []
    },
    {
      "cell_type": "markdown",
      "source": [
        "5. Please create a fact_daily_posts table to capture the number of posts per user per\n",
        "day"
      ],
      "metadata": {
        "id": "Kq-hob1XXnrw"
      }
    },
    {
      "cell_type": "code",
      "source": [
        "-- Create fact table fact_daily_posts\n",
        "CREATE TABLE fact_daily_posts (\n",
        "    fact_id SERIAL PRIMARY KEY,\n",
        "    user_id INT REFERENCES dim_user(user_id),\n",
        "    date_id INT REFERENCES dim_date(date_id),\n",
        "    posts_count INT\n",
        ");\n"
      ],
      "metadata": {
        "id": "4z7ew9anXsRD"
      },
      "execution_count": null,
      "outputs": []
    },
    {
      "cell_type": "markdown",
      "source": [
        "6. Also populate the fact table by joining and aggregating data from the raw tables"
      ],
      "metadata": {
        "id": "DDvi1MDYXtuR"
      }
    },
    {
      "cell_type": "code",
      "source": [
        "-- Populate fact_daily_posts from raw_posts\n",
        "INSERT INTO fact_daily_posts (user_id, date_id, posts_count)\n",
        "SELECT user_id, d.date_id, COUNT(*) AS posts_count\n",
        "FROM raw_posts p\n",
        "JOIN dim_date d ON p.post_date = d.calendar_date\n",
        "GROUP BY user_id, d.date_id;\n"
      ],
      "metadata": {
        "id": "o8Waqlr5Xw3p"
      },
      "execution_count": null,
      "outputs": []
    }
  ]
}